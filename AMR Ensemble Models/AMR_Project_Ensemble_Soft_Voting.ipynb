{
  "nbformat": 4,
  "nbformat_minor": 0,
  "metadata": {
    "colab": {
      "provenance": []
    },
    "kernelspec": {
      "name": "python3",
      "display_name": "Python 3"
    },
    "language_info": {
      "name": "python"
    }
  },
  "cells": [
    {
      "cell_type": "markdown",
      "source": [
        "# **AntiMicrobial Resistance Prediction from SNPs**"
      ],
      "metadata": {
        "id": "tZGmhVvlxL9X"
      }
    },
    {
      "cell_type": "markdown",
      "source": [
        "This notebook contains the proposed end-to-end Custom 1D CNN - XGBoost Ensemble implementations of **AMR Prediction from SNPs** project. Feel free to use/customise the code."
      ],
      "metadata": {
        "id": "0-nCuMo5xLzK"
      }
    },
    {
      "cell_type": "markdown",
      "source": [
        "# **CIP**"
      ],
      "metadata": {
        "id": "OJHHdR-1CCe4"
      }
    },
    {
      "cell_type": "markdown",
      "source": [
        "##**Setup & Imports**"
      ],
      "metadata": {
        "id": "gV8ouAZSNsfQ"
      }
    },
    {
      "cell_type": "code",
      "source": [
        "from google.colab import drive\n",
        "drive.mount('/content/drive')"
      ],
      "metadata": {
        "colab": {
          "base_uri": "https://localhost:8080/"
        },
        "id": "K3EFDTuTdiXG",
        "outputId": "b3725f6f-e5f5-4605-d542-7cf428c8f166"
      },
      "execution_count": null,
      "outputs": [
        {
          "output_type": "stream",
          "name": "stdout",
          "text": [
            "Mounted at /content/drive\n"
          ]
        }
      ]
    },
    {
      "cell_type": "code",
      "execution_count": null,
      "metadata": {
        "colab": {
          "base_uri": "https://localhost:8080/"
        },
        "id": "vZ2BMt-iNPXj",
        "outputId": "c00cf99d-54da-4be5-f09c-638aff1a3aa3"
      },
      "outputs": [
        {
          "output_type": "stream",
          "name": "stdout",
          "text": [
            "Setup Complete for Simple Prediction Averaging Ensemble.\n"
          ]
        }
      ],
      "source": [
        "import os\n",
        "import pandas as pd\n",
        "import numpy as np\n",
        "import matplotlib.pyplot as plt\n",
        "import seaborn as sns\n",
        "\n",
        "# --- Scikit-learn and Model Imports ---\n",
        "from sklearn.model_selection import train_test_split\n",
        "from sklearn.metrics import (\n",
        "    classification_report, confusion_matrix, accuracy_score, roc_auc_score,\n",
        "    f1_score, roc_curve, auc, cohen_kappa_score, matthews_corrcoef,\n",
        "    precision_recall_curve\n",
        ")\n",
        "import tensorflow as tf\n",
        "from tensorflow import keras\n",
        "import xgboost as xgb\n",
        "\n",
        "print(\"Setup Complete for Simple Prediction Averaging Ensemble.\")\n",
        "\n",
        "# --- Configuration ---\n",
        "SNP_MATRIX_FILE = \"/content/drive/MyDrive/AMR/Giessen_dataset/cip_ctx_ctz_gen_multi_data.csv\"\n",
        "PHENOTYPES_FILE = \"/content/drive/MyDrive/AMR/Giessen_dataset/cip_ctx_ctz_gen_pheno.csv\"\n",
        "TARGET_ANTIBIOTIC = \"CIP\"\n",
        "\n",
        "# Saved Model Paths\n",
        "CNN_MODEL_PATH = \"/content/drive/MyDrive/AMR/Trained Weights/best_cnn1d_model_CIP.keras\"\n",
        "XGB_MODEL_PATH = \"/content/drive/MyDrive/AMR/Trained Weights/best_xgboost_model_CIP.json\"\n",
        "\n",
        "# Data Splitting Ratio\n",
        "TEST_SPLIT = 0.2\n",
        "\n",
        "# Seed for reproducibility\n",
        "np.random.seed(42)\n",
        "tf.random.set_seed(42)"
      ]
    },
    {
      "cell_type": "markdown",
      "source": [
        "# **Initial Preprocessing**"
      ],
      "metadata": {
        "id": "GtTn9BepN73R"
      }
    },
    {
      "cell_type": "code",
      "source": [
        "print(\"\\n--- Loading Data and Performing Identical Split ---\")\n",
        "snp_df_raw = pd.read_csv(SNP_MATRIX_FILE)\n",
        "pheno_df = pd.read_csv(PHENOTYPES_FILE)\n",
        "snp_df = snp_df_raw.set_index('prename')\n",
        "pheno_df = pheno_df.set_index('prename')\n",
        "merged_df = snp_df.join(pheno_df[TARGET_ANTIBIOTIC], how='inner')\n",
        "merged_df = merged_df.dropna(subset=[TARGET_ANTIBIOTIC])\n",
        "merged_df = merged_df.fillna(0)\n",
        "\n",
        "labels = merged_df[TARGET_ANTIBIOTIC].values.astype(np.int32)\n",
        "X = merged_df.drop(columns=[TARGET_ANTIBIOTIC]).values.astype(np.int32)\n",
        "\n",
        "X_train, X_test, y_train, y_test = train_test_split(\n",
        "    X, labels,\n",
        "    test_size=TEST_SPLIT,\n",
        "    random_state=42,\n",
        "    stratify=labels\n",
        ")\n",
        "\n",
        "print(f\"Loaded {len(y_train)} training samples and {len(y_test)} test samples.\")"
      ],
      "metadata": {
        "colab": {
          "base_uri": "https://localhost:8080/"
        },
        "id": "pBNZJfkAN8UH",
        "outputId": "b08a4b6c-19fa-4068-9505-452b1a8a0170"
      },
      "execution_count": null,
      "outputs": [
        {
          "output_type": "stream",
          "name": "stdout",
          "text": [
            "\n",
            "--- Loading Data and Performing Identical Split ---\n",
            "Loaded 647 training samples and 162 test samples.\n"
          ]
        }
      ]
    },
    {
      "cell_type": "markdown",
      "source": [
        "# **Loading Model & Predictions**"
      ],
      "metadata": {
        "id": "HzPhCmtBOf9W"
      }
    },
    {
      "cell_type": "code",
      "source": [
        "print(\"\\n--- Loading Pre-Trained Models and Generating Predictions ---\")\n",
        "\n",
        "# --- Loading Models ---\n",
        "try:\n",
        "    cnn_model = keras.models.load_model(CNN_MODEL_PATH)\n",
        "    xgb_model = xgb.XGBClassifier()\n",
        "    xgb_model.load_model(XGB_MODEL_PATH)\n",
        "    print(\"Base models loaded successfully.\")\n",
        "except Exception as e:\n",
        "    print(f\"Error loading models: {e}\")\n",
        "    exit()\n",
        "\n",
        "# We need test set predictions for the final evaluation\n",
        "print(\"Generating predictions for the test set (for final evaluation)...\")\n",
        "test_preds_cnn = cnn_model.predict(X_test, verbose=0).ravel()\n",
        "test_preds_xgb = xgb_model.predict_proba(X_test)[:, 1]"
      ],
      "metadata": {
        "colab": {
          "base_uri": "https://localhost:8080/"
        },
        "id": "lojWWm3Sr8y5",
        "outputId": "11804bc7-cbad-4706-a51a-42f90d331f91"
      },
      "execution_count": null,
      "outputs": [
        {
          "output_type": "stream",
          "name": "stdout",
          "text": [
            "\n",
            "--- Loading Pre-Trained Models and Generating Predictions ---\n",
            "Base models loaded successfully.\n",
            "Generating predictions for the training set (for threshold tuning)...\n",
            "Generating predictions for the test set (for final evaluation)...\n"
          ]
        }
      ]
    },
    {
      "cell_type": "markdown",
      "source": [
        "# **Model Evaluation**"
      ],
      "metadata": {
        "id": "RDkJ3NxFO202"
      }
    },
    {
      "cell_type": "code",
      "source": [
        "print(\"\\n--- Evaluating Simple Ensemble Model on the Test Set ---\")\n",
        "\n",
        "print(\"\\n--- Combining Predictions and Tuning the Threshold ---\")\n",
        "\n",
        "cnn_weight = 0.5\n",
        "xgb_weight = 0.5\n",
        "\n",
        "# Combining predictions for the test set\n",
        "y_pred_probs_ensemble = (cnn_weight * test_preds_cnn) + (xgb_weight * test_preds_xgb)\n",
        "\n",
        "# Applying the OPTIMAL THRESHOLD to the combined test probabilities\n",
        "y_pred_ensemble_tuned = (y_pred_probs_ensemble >= 0.55).astype(int)\n",
        "\n",
        "# --- Calculating and Displaying All Metrics ---\n",
        "accuracy_ensemble = accuracy_score(y_test, y_pred_ensemble_tuned)\n",
        "auc_ensemble = roc_auc_score(y_test, y_pred_probs_ensemble)\n",
        "kappa_ensemble = cohen_kappa_score(y_test, y_pred_ensemble_tuned)\n",
        "mcc_ensemble = matthews_corrcoef(y_test, y_pred_ensemble_tuned)\n",
        "\n",
        "print(f\"\\nOverall Performance Metrics (Test Set with Tuned Threshold):\")\n",
        "print(f\"Accuracy: {accuracy_ensemble:.4f}\")\n",
        "print(f\"AUC Score: {auc_ensemble:.4f}\")\n",
        "print(f\"Cohen's Kappa: {kappa_ensemble:.4f}\")\n",
        "print(f\"Matthews Correlation Coefficient (MCC): {mcc_ensemble:.4f}\")\n",
        "\n",
        "print(\"\\nClassification Report (Tuned Threshold):\")\n",
        "print(classification_report(y_test, y_pred_ensemble_tuned, target_names=[\"Susceptible (0)\", \"Resistant (1)\"], digits=4))\n",
        "\n",
        "print(\"\\nConfusion Matrix (Tuned Threshold):\")\n",
        "cm_ensemble = confusion_matrix(y_test, y_pred_ensemble_tuned)\n",
        "sns.heatmap(cm_ensemble, annot=True, fmt='d', cmap='Blues')\n",
        "#plt.title(f'Confusion Matrix - {TARGET_ANTIBIOTIC} (Simple Ensemble)')\n",
        "plt.ylabel('Actual')\n",
        "plt.xlabel('Predicted')\n",
        "plt.show()\n",
        "\n",
        "# --- ROC Curve ---\n",
        "fpr_ens, tpr_ens, _ = roc_curve(y_test, y_pred_probs_ensemble)\n",
        "plt.figure(figsize=(7, 6))\n",
        "plt.plot(fpr_ens, tpr_ens, color='blue', lw=2, label=f'ROC (AUC = {auc_ensemble:.4f})')\n",
        "plt.plot([0, 1], [0, 1], color='gray', lw=2, linestyle='--')\n",
        "#plt.title(f'ROC Curve - {TARGET_ANTIBIOTIC} (Simple Ensemble)')\n",
        "plt.legend(loc=\"lower right\")\n",
        "plt.grid(alpha=0.3)\n",
        "plt.show()"
      ],
      "metadata": {
        "colab": {
          "base_uri": "https://localhost:8080/",
          "height": 1000
        },
        "id": "3ZscK9eaO8YD",
        "outputId": "c2115248-af90-48ec-bc12-1869436ede89"
      },
      "execution_count": null,
      "outputs": [
        {
          "output_type": "stream",
          "name": "stdout",
          "text": [
            "\n",
            "--- Evaluating Simple Ensemble Model on the Test Set ---\n",
            "\n",
            "===========================================================\n",
            "--- FINAL ENSEMBLE PERFORMANCE (Threshold = 0.3811) ---\n",
            "===========================================================\n",
            "\n",
            "Overall Performance Metrics (Test Set with Tuned Threshold):\n",
            "Accuracy: 0.9630\n",
            "AUC Score: 0.9878\n",
            "Cohen's Kappa: 0.9248\n",
            "Matthews Correlation Coefficient (MCC): 0.9260\n",
            "\n",
            "Classification Report (Tuned Threshold):\n",
            "                 precision    recall  f1-score   support\n",
            "\n",
            "Susceptible (0)     0.9462    0.9888    0.9670        89\n",
            "  Resistant (1)     0.9855    0.9315    0.9577        73\n",
            "\n",
            "       accuracy                         0.9630       162\n",
            "      macro avg     0.9659    0.9601    0.9624       162\n",
            "   weighted avg     0.9639    0.9630    0.9628       162\n",
            "\n",
            "\n",
            "Confusion Matrix (Tuned Threshold):\n"
          ]
        },
        {
          "output_type": "display_data",
          "data": {
            "text/plain": [
              "<Figure size 640x480 with 2 Axes>"
            ],
            "image/png": "[encoded data removed]"
          },
          "metadata": {}
        },
        {
          "output_type": "display_data",
          "data": {
            "text/plain": [
              "<Figure size 700x600 with 1 Axes>"
            ],
            "image/png": "[encoded data removed]"
          },
          "metadata": {}
        }
      ]
    },
    {
      "cell_type": "markdown",
      "source": [
        "# **CTX**"
      ],
      "metadata": {
        "id": "PZVYvEq9CJuk"
      }
    },
    {
      "cell_type": "markdown",
      "source": [
        "#**Setup & Imports**"
      ],
      "metadata": {
        "id": "CKz16D-ECJul"
      }
    },
    {
      "cell_type": "code",
      "execution_count": null,
      "metadata": {
        "colab": {
          "base_uri": "https://localhost:8080/"
        },
        "outputId": "c4551df0-c939-4069-c1f1-51590beb8b63",
        "id": "dYTIG2A8CJul"
      },
      "outputs": [
        {
          "output_type": "stream",
          "name": "stdout",
          "text": [
            "Setup Complete for Simple Prediction Averaging Ensemble.\n"
          ]
        }
      ],
      "source": [
        "import os\n",
        "import pandas as pd\n",
        "import numpy as np\n",
        "import matplotlib.pyplot as plt\n",
        "import seaborn as sns\n",
        "\n",
        "# --- Scikit-learn and Model Imports ---\n",
        "from sklearn.model_selection import train_test_split\n",
        "from sklearn.metrics import (\n",
        "    classification_report, confusion_matrix, accuracy_score, roc_auc_score,\n",
        "    f1_score, roc_curve, auc, cohen_kappa_score, matthews_corrcoef,\n",
        "    precision_recall_curve\n",
        ")\n",
        "import tensorflow as tf\n",
        "from tensorflow import keras\n",
        "import xgboost as xgb\n",
        "\n",
        "print(\"Setup Complete for Simple Prediction Averaging Ensemble.\")\n",
        "\n",
        "# --- Configuration ---\n",
        "SNP_MATRIX_FILE = \"/content/drive/MyDrive/AMR/Giessen_dataset/cip_ctx_ctz_gen_multi_data.csv\"\n",
        "PHENOTYPES_FILE = \"/content/drive/MyDrive/AMR/Giessen_dataset/cip_ctx_ctz_gen_pheno.csv\"\n",
        "TARGET_ANTIBIOTIC = \"CTX\"\n",
        "\n",
        "# Saved Model Paths\n",
        "CNN_MODEL_PATH = \"/content/drive/MyDrive/AMR/Trained Weights/best_cnn1d_model_CTX.keras\"\n",
        "XGB_MODEL_PATH = \"/content/drive/MyDrive/AMR/Trained Weights/best_xgboost_model_CTX.json\"\n",
        "\n",
        "# Data Splitting Ratio\n",
        "TEST_SPLIT = 0.2\n",
        "\n",
        "# Seed for reproducibility\n",
        "np.random.seed(42)\n",
        "tf.random.set_seed(42)"
      ]
    },
    {
      "cell_type": "markdown",
      "source": [
        "# **Initial Preprocessing**"
      ],
      "metadata": {
        "id": "qkuGSobOCJul"
      }
    },
    {
      "cell_type": "code",
      "source": [
        "print(\"\\n--- Loading Data and Performing Identical Split ---\")\n",
        "snp_df_raw = pd.read_csv(SNP_MATRIX_FILE)\n",
        "pheno_df = pd.read_csv(PHENOTYPES_FILE)\n",
        "snp_df = snp_df_raw.set_index('prename')\n",
        "pheno_df = pheno_df.set_index('prename')\n",
        "merged_df = snp_df.join(pheno_df[TARGET_ANTIBIOTIC], how='inner')\n",
        "merged_df = merged_df.dropna(subset=[TARGET_ANTIBIOTIC])\n",
        "merged_df = merged_df.fillna(0)\n",
        "\n",
        "labels = merged_df[TARGET_ANTIBIOTIC].values.astype(np.int32)\n",
        "X = merged_df.drop(columns=[TARGET_ANTIBIOTIC]).values.astype(np.int32)\n",
        "\n",
        "X_train, X_test, y_train, y_test = train_test_split(\n",
        "    X, labels,\n",
        "    test_size=TEST_SPLIT,\n",
        "    random_state=42,\n",
        "    stratify=labels\n",
        ")\n",
        "\n",
        "print(f\"Loaded {len(y_train)} training samples and {len(y_test)} test samples.\")"
      ],
      "metadata": {
        "colab": {
          "base_uri": "https://localhost:8080/"
        },
        "outputId": "e8e5b349-1929-4370-d048-71a006b712d2",
        "id": "MNhpczbXCJul"
      },
      "execution_count": null,
      "outputs": [
        {
          "output_type": "stream",
          "name": "stdout",
          "text": [
            "\n",
            "--- Loading Data and Performing Identical Split ---\n",
            "Loaded 647 training samples and 162 test samples.\n"
          ]
        }
      ]
    },
    {
      "cell_type": "markdown",
      "source": [
        "# **Loading Model & Predictions**"
      ],
      "metadata": {
        "id": "pXD43YBKCJum"
      }
    },
    {
      "cell_type": "code",
      "source": [
        "print(\"\\n--- Loading Pre-Trained Models and Generating Predictions ---\")\n",
        "\n",
        "# --- Loading Models ---\n",
        "try:\n",
        "    cnn_model = keras.models.load_model(CNN_MODEL_PATH)\n",
        "    xgb_model = xgb.XGBClassifier()\n",
        "    xgb_model.load_model(XGB_MODEL_PATH)\n",
        "    print(\"Base models loaded successfully.\")\n",
        "except Exception as e:\n",
        "    print(f\"Error loading models: {e}\")\n",
        "    exit()\n",
        "\n",
        "# We need test set predictions for the final evaluation\n",
        "print(\"Generating predictions for the test set (for final evaluation)...\")\n",
        "test_preds_cnn = cnn_model.predict(X_test, verbose=0).ravel()\n",
        "test_preds_xgb = xgb_model.predict_proba(X_test)[:, 1]"
      ],
      "metadata": {
        "colab": {
          "base_uri": "https://localhost:8080/"
        },
        "outputId": "b2f4e689-94fa-4343-e33a-b3b73a3c31de",
        "id": "5VAfBtl0CJum"
      },
      "execution_count": null,
      "outputs": [
        {
          "output_type": "stream",
          "name": "stdout",
          "text": [
            "\n",
            "--- Loading Pre-Trained Models and Generating Predictions ---\n",
            "Base models loaded successfully.\n",
            "Generating predictions for the test set (for final evaluation)...\n"
          ]
        }
      ]
    },
    {
      "cell_type": "markdown",
      "source": [
        "# **Model Evaluation**"
      ],
      "metadata": {
        "id": "ouJdmsxiCJum"
      }
    },
    {
      "cell_type": "code",
      "source": [
        "print(\"\\n--- Evaluating Simple Ensemble Model on the Test Set ---\")\n",
        "\n",
        "print(\"\\n--- Combining Predictions and Tuning the Threshold ---\")\n",
        "\n",
        "cnn_weight = 0.5\n",
        "xgb_weight = 0.5\n",
        "\n",
        "# Combining predictions for the test set\n",
        "y_pred_probs_ensemble = (cnn_weight * test_preds_cnn) + (xgb_weight * test_preds_xgb)\n",
        "\n",
        "# Applying the OPTIMAL THRESHOLD to the combined test probabilities\n",
        "y_pred_ensemble_tuned = (y_pred_probs_ensemble >= 0.48).astype(int)\n",
        "\n",
        "# --- Calculating and Displaying All Metrics ---\n",
        "accuracy_ensemble = accuracy_score(y_test, y_pred_ensemble_tuned)\n",
        "auc_ensemble = roc_auc_score(y_test, y_pred_probs_ensemble)\n",
        "kappa_ensemble = cohen_kappa_score(y_test, y_pred_ensemble_tuned)\n",
        "mcc_ensemble = matthews_corrcoef(y_test, y_pred_ensemble_tuned)\n",
        "\n",
        "print(f\"\\nOverall Performance Metrics (Test Set with Tuned Threshold):\")\n",
        "print(f\"Accuracy: {accuracy_ensemble:.4f}\")\n",
        "print(f\"AUC Score: {auc_ensemble:.4f}\")\n",
        "print(f\"Cohen's Kappa: {kappa_ensemble:.4f}\")\n",
        "print(f\"Matthews Correlation Coefficient (MCC): {mcc_ensemble:.4f}\")\n",
        "\n",
        "print(\"\\nClassification Report (Tuned Threshold):\")\n",
        "print(classification_report(y_test, y_pred_ensemble_tuned, target_names=[\"Susceptible (0)\", \"Resistant (1)\"], digits=4))\n",
        "\n",
        "print(\"\\nConfusion Matrix (Tuned Threshold):\")\n",
        "cm_ensemble = confusion_matrix(y_test, y_pred_ensemble_tuned)\n",
        "sns.heatmap(cm_ensemble, annot=True, fmt='d', cmap='Blues')\n",
        "#plt.title(f'Confusion Matrix - {TARGET_ANTIBIOTIC} (Simple Ensemble)')\n",
        "plt.ylabel('Actual')\n",
        "plt.xlabel('Predicted')\n",
        "plt.show()\n",
        "\n",
        "# --- ROC Curve ---\n",
        "fpr_ens, tpr_ens, _ = roc_curve(y_test, y_pred_probs_ensemble)\n",
        "plt.figure(figsize=(7, 6))\n",
        "plt.plot(fpr_ens, tpr_ens, color='blue', lw=2, label=f'ROC (AUC = {auc_ensemble:.4f})')\n",
        "plt.plot([0, 1], [0, 1], color='gray', lw=2, linestyle='--')\n",
        "#plt.title(f'ROC Curve - {TARGET_ANTIBIOTIC} (Simple Ensemble)')\n",
        "plt.legend(loc=\"lower right\")\n",
        "plt.grid(alpha=0.3)\n",
        "plt.show()"
      ],
      "metadata": {
        "colab": {
          "base_uri": "https://localhost:8080/",
          "height": 1000
        },
        "outputId": "fc683f4e-6537-4be1-88a4-e26eb52b5ad5",
        "id": "130VpqymCJum"
      },
      "execution_count": null,
      "outputs": [
        {
          "output_type": "stream",
          "name": "stdout",
          "text": [
            "\n",
            "--- Evaluating Simple Ensemble Model on the Test Set ---\n",
            "\n",
            "--- Combining Predictions and Tuning the Threshold ---\n",
            "\n",
            "Overall Performance Metrics (Test Set with Tuned Threshold):\n",
            "Accuracy: 0.8086\n",
            "AUC Score: 0.8753\n",
            "Cohen's Kappa: 0.6183\n",
            "Matthews Correlation Coefficient (MCC): 0.6241\n",
            "\n",
            "Classification Report (Tuned Threshold):\n",
            "                 precision    recall  f1-score   support\n",
            "\n",
            "Susceptible (0)     0.8734    0.7667    0.8166        90\n",
            "  Resistant (1)     0.7470    0.8611    0.8000        72\n",
            "\n",
            "       accuracy                         0.8086       162\n",
            "      macro avg     0.8102    0.8139    0.8083       162\n",
            "   weighted avg     0.8172    0.8086    0.8092       162\n",
            "\n",
            "\n",
            "Confusion Matrix (Tuned Threshold):\n"
          ]
        },
        {
          "output_type": "display_data",
          "data": {
            "text/plain": [
              "<Figure size 640x480 with 2 Axes>"
            ],
            "image/png": "[encoded data removed]"
          },
          "metadata": {}
        },
        {
          "output_type": "display_data",
          "data": {
            "text/plain": [
              "<Figure size 700x600 with 1 Axes>"
            ],
            "image/png": "[encoded data removed]"
          },
          "metadata": {}
        }
      ]
    },
    {
      "cell_type": "markdown",
      "source": [
        "# **CTZ**"
      ],
      "metadata": {
        "id": "dHJ7wzVNElm2"
      }
    },
    {
      "cell_type": "markdown",
      "source": [
        "#**Setup & Imports**"
      ],
      "metadata": {
        "id": "mAMxWaa9Elm3"
      }
    },
    {
      "cell_type": "code",
      "execution_count": null,
      "metadata": {
        "colab": {
          "base_uri": "https://localhost:8080/"
        },
        "outputId": "a0f94274-1016-4846-89fc-81524c70fc40",
        "id": "0gZphNKpElm3"
      },
      "outputs": [
        {
          "output_type": "stream",
          "name": "stdout",
          "text": [
            "Setup Complete for Simple Prediction Averaging Ensemble.\n"
          ]
        }
      ],
      "source": [
        "print(\"Setup Complete for Simple Prediction Averaging Ensemble.\")\n",
        "\n",
        "# --- Configuration ---\n",
        "SNP_MATRIX_FILE = \"/content/drive/MyDrive/AMR/Giessen_dataset/cip_ctx_ctz_gen_multi_data.csv\"\n",
        "PHENOTYPES_FILE = \"/content/drive/MyDrive/AMR/Giessen_dataset/cip_ctx_ctz_gen_pheno.csv\"\n",
        "TARGET_ANTIBIOTIC = \"CTZ\"\n",
        "\n",
        "# Saved Model Paths\n",
        "CNN_MODEL_PATH = \"/content/drive/MyDrive/AMR/Trained Weights/best_cnn1d_model_CTZ.keras\"\n",
        "XGB_MODEL_PATH = \"/content/drive/MyDrive/AMR/Trained Weights/best_xgboost_model_CTZ.json\"\n",
        "\n",
        "# Data Splitting Ratio\n",
        "TEST_SPLIT = 0.2\n",
        "\n",
        "# Seed for reproducibility\n",
        "np.random.seed(42)\n",
        "tf.random.set_seed(42)"
      ]
    },
    {
      "cell_type": "markdown",
      "source": [
        "# **Initial Preprocessing**"
      ],
      "metadata": {
        "id": "aGIZAbfNElm3"
      }
    },
    {
      "cell_type": "code",
      "source": [
        "print(\"\\n--- Loading Data and Performing Identical Split ---\")\n",
        "snp_df_raw = pd.read_csv(SNP_MATRIX_FILE)\n",
        "pheno_df = pd.read_csv(PHENOTYPES_FILE)\n",
        "snp_df = snp_df_raw.set_index('prename')\n",
        "pheno_df = pheno_df.set_index('prename')\n",
        "merged_df = snp_df.join(pheno_df[TARGET_ANTIBIOTIC], how='inner')\n",
        "merged_df = merged_df.dropna(subset=[TARGET_ANTIBIOTIC])\n",
        "merged_df = merged_df.fillna(0)\n",
        "\n",
        "labels = merged_df[TARGET_ANTIBIOTIC].values.astype(np.int32)\n",
        "X = merged_df.drop(columns=[TARGET_ANTIBIOTIC]).values.astype(np.int32)\n",
        "\n",
        "X_train, X_test, y_train, y_test = train_test_split(\n",
        "    X, labels,\n",
        "    test_size=TEST_SPLIT,\n",
        "    random_state=42,\n",
        "    stratify=labels\n",
        ")\n",
        "\n",
        "print(f\"Loaded {len(y_train)} training samples and {len(y_test)} test samples.\")"
      ],
      "metadata": {
        "colab": {
          "base_uri": "https://localhost:8080/"
        },
        "outputId": "0f60aa2b-33f8-4704-fb60-f1ac1a039326",
        "id": "JL_WRs43Elm3"
      },
      "execution_count": null,
      "outputs": [
        {
          "output_type": "stream",
          "name": "stdout",
          "text": [
            "\n",
            "--- Loading Data and Performing Identical Split ---\n",
            "Loaded 647 training samples and 162 test samples.\n"
          ]
        }
      ]
    },
    {
      "cell_type": "markdown",
      "source": [
        "# **Loading Model & Predictions**"
      ],
      "metadata": {
        "id": "W6UhTG8UElm3"
      }
    },
    {
      "cell_type": "code",
      "source": [
        "print(\"\\n--- Loading Pre-Trained Models and Generating Predictions ---\")\n",
        "\n",
        "# --- Loading Models ---\n",
        "try:\n",
        "    cnn_model = keras.models.load_model(CNN_MODEL_PATH)\n",
        "    xgb_model = xgb.XGBClassifier()\n",
        "    xgb_model.load_model(XGB_MODEL_PATH)\n",
        "    print(\"Base models loaded successfully.\")\n",
        "except Exception as e:\n",
        "    print(f\"Error loading models: {e}\")\n",
        "    exit()\n",
        "\n",
        "# We need test set predictions for the final evaluation\n",
        "print(\"Generating predictions for the test set (for final evaluation)...\")\n",
        "test_preds_cnn = cnn_model.predict(X_test, verbose=0).ravel()\n",
        "test_preds_xgb = xgb_model.predict_proba(X_test)[:, 1]"
      ],
      "metadata": {
        "colab": {
          "base_uri": "https://localhost:8080/"
        },
        "outputId": "d92fd00f-c2ec-4f6d-a5bf-dad68dd04cc1",
        "id": "XCiEqPewElm3"
      },
      "execution_count": null,
      "outputs": [
        {
          "output_type": "stream",
          "name": "stdout",
          "text": [
            "\n",
            "--- Loading Pre-Trained Models and Generating Predictions ---\n",
            "Base models loaded successfully.\n",
            "Generating predictions for the test set (for final evaluation)...\n"
          ]
        }
      ]
    },
    {
      "cell_type": "markdown",
      "source": [
        "# **Model Evaluation**"
      ],
      "metadata": {
        "id": "S7vfDkEeElm4"
      }
    },
    {
      "cell_type": "code",
      "source": [
        "print(\"\\n--- Evaluating Simple Ensemble Model on the Test Set ---\")\n",
        "\n",
        "print(\"\\n--- Combining Predictions and Tuning the Threshold ---\")\n",
        "\n",
        "cnn_weight = 0.5\n",
        "xgb_weight = 0.5\n",
        "\n",
        "# Combining predictions for the test set\n",
        "y_pred_probs_ensemble = (cnn_weight * test_preds_cnn) + (xgb_weight * test_preds_xgb)\n",
        "\n",
        "# Applying the OPTIMAL THRESHOLD to the combined test probabilities\n",
        "y_pred_ensemble_tuned = (y_pred_probs_ensemble >= 0.55).astype(int)\n",
        "\n",
        "# --- Calculating and Displaying All Metrics ---\n",
        "accuracy_ensemble = accuracy_score(y_test, y_pred_ensemble_tuned)\n",
        "auc_ensemble = roc_auc_score(y_test, y_pred_probs_ensemble)\n",
        "kappa_ensemble = cohen_kappa_score(y_test, y_pred_ensemble_tuned)\n",
        "mcc_ensemble = matthews_corrcoef(y_test, y_pred_ensemble_tuned)\n",
        "\n",
        "print(f\"\\nOverall Performance Metrics (Test Set with Tuned Threshold):\")\n",
        "print(f\"Accuracy: {accuracy_ensemble:.4f}\")\n",
        "print(f\"AUC Score: {auc_ensemble:.4f}\")\n",
        "print(f\"Cohen's Kappa: {kappa_ensemble:.4f}\")\n",
        "print(f\"Matthews Correlation Coefficient (MCC): {mcc_ensemble:.4f}\")\n",
        "\n",
        "print(\"\\nClassification Report (Tuned Threshold):\")\n",
        "print(classification_report(y_test, y_pred_ensemble_tuned, target_names=[\"Susceptible (0)\", \"Resistant (1)\"], digits=4))\n",
        "\n",
        "print(\"\\nConfusion Matrix (Tuned Threshold):\")\n",
        "cm_ensemble = confusion_matrix(y_test, y_pred_ensemble_tuned)\n",
        "sns.heatmap(cm_ensemble, annot=True, fmt='d', cmap='Blues')\n",
        "#plt.title(f'Confusion Matrix - {TARGET_ANTIBIOTIC} (Simple Ensemble)')\n",
        "plt.ylabel('Actual')\n",
        "plt.xlabel('Predicted')\n",
        "plt.show()\n",
        "\n",
        "# --- ROC Curve ---\n",
        "fpr_ens, tpr_ens, _ = roc_curve(y_test, y_pred_probs_ensemble)\n",
        "plt.figure(figsize=(7, 6))\n",
        "plt.plot(fpr_ens, tpr_ens, color='blue', lw=2, label=f'ROC (AUC = {auc_ensemble:.4f})')\n",
        "plt.plot([0, 1], [0, 1], color='gray', lw=2, linestyle='--')\n",
        "#plt.title(f'ROC Curve - {TARGET_ANTIBIOTIC} (Simple Ensemble)')\n",
        "plt.legend(loc=\"lower right\")\n",
        "plt.grid(alpha=0.3)\n",
        "plt.show()"
      ],
      "metadata": {
        "colab": {
          "base_uri": "https://localhost:8080/",
          "height": 1000
        },
        "outputId": "dd1d2c4f-c4dd-49c5-abe9-2e4f3afdee94",
        "id": "NmklcCvwElm4"
      },
      "execution_count": null,
      "outputs": [
        {
          "output_type": "stream",
          "name": "stdout",
          "text": [
            "\n",
            "--- Evaluating Simple Ensemble Model on the Test Set ---\n",
            "\n",
            "--- Combining Predictions and Tuning the Threshold ---\n",
            "\n",
            "Overall Performance Metrics (Test Set with Tuned Threshold):\n",
            "Accuracy: 0.8086\n",
            "AUC Score: 0.8253\n",
            "Cohen's Kappa: 0.5714\n",
            "Matthews Correlation Coefficient (MCC): 0.5715\n",
            "\n",
            "Classification Report (Tuned Threshold):\n",
            "                 precision    recall  f1-score   support\n",
            "\n",
            "Susceptible (0)     0.8519    0.8598    0.8558       107\n",
            "  Resistant (1)     0.7222    0.7091    0.7156        55\n",
            "\n",
            "       accuracy                         0.8086       162\n",
            "      macro avg     0.7870    0.7845    0.7857       162\n",
            "   weighted avg     0.8078    0.8086    0.8082       162\n",
            "\n",
            "\n",
            "Confusion Matrix (Tuned Threshold):\n"
          ]
        },
        {
          "output_type": "display_data",
          "data": {
            "text/plain": [
              "<Figure size 640x480 with 2 Axes>"
            ],
            "image/png": "[encoded data removed]"
          },
          "metadata": {}
        },
        {
          "output_type": "display_data",
          "data": {
            "text/plain": [
              "<Figure size 700x600 with 1 Axes>"
            ],
            "image/png": "[encoded data removed]"
          },
          "metadata": {}
        }
      ]
    },
    {
      "cell_type": "markdown",
      "source": [
        "# **GEN**"
      ],
      "metadata": {
        "id": "HHhJUPr-GXqd"
      }
    },
    {
      "cell_type": "markdown",
      "source": [
        "#**Setup & Imports**"
      ],
      "metadata": {
        "id": "yBrPDDHtGXqe"
      }
    },
    {
      "cell_type": "code",
      "execution_count": null,
      "metadata": {
        "colab": {
          "base_uri": "https://localhost:8080/"
        },
        "outputId": "91ff671e-c9df-4a03-c807-b6abda192adb",
        "id": "ZN8NvFfXGXqe"
      },
      "outputs": [
        {
          "output_type": "stream",
          "name": "stdout",
          "text": [
            "Setup Complete for Simple Prediction Averaging Ensemble.\n"
          ]
        }
      ],
      "source": [
        "print(\"Setup Complete for Simple Prediction Averaging Ensemble.\")\n",
        "\n",
        "# --- Configuration ---\n",
        "SNP_MATRIX_FILE = \"/content/drive/MyDrive/AMR/Giessen_dataset/cip_ctx_ctz_gen_multi_data.csv\"\n",
        "PHENOTYPES_FILE = \"/content/drive/MyDrive/AMR/Giessen_dataset/cip_ctx_ctz_gen_pheno.csv\"\n",
        "TARGET_ANTIBIOTIC = \"GEN\"\n",
        "\n",
        "# Saved Model Paths\n",
        "CNN_MODEL_PATH = \"/content/drive/MyDrive/AMR/Trained Weights/best_cnn1d_model_GEN.keras\"\n",
        "XGB_MODEL_PATH = \"/content/drive/MyDrive/AMR/Trained Weights/best_xgboost_model_GEN.json\"\n",
        "\n",
        "# Data Splitting Ratio\n",
        "TEST_SPLIT = 0.2\n",
        "\n",
        "# Seed for reproducibility\n",
        "np.random.seed(42)\n",
        "tf.random.set_seed(42)"
      ]
    },
    {
      "cell_type": "markdown",
      "source": [
        "# **Initial Preprocessing**"
      ],
      "metadata": {
        "id": "tOgcmF0bGXqe"
      }
    },
    {
      "cell_type": "code",
      "source": [
        "print(\"\\n--- Loading Data and Performing Identical Split ---\")\n",
        "snp_df_raw = pd.read_csv(SNP_MATRIX_FILE)\n",
        "pheno_df = pd.read_csv(PHENOTYPES_FILE)\n",
        "snp_df = snp_df_raw.set_index('prename')\n",
        "pheno_df = pheno_df.set_index('prename')\n",
        "merged_df = snp_df.join(pheno_df[TARGET_ANTIBIOTIC], how='inner')\n",
        "merged_df = merged_df.dropna(subset=[TARGET_ANTIBIOTIC])\n",
        "merged_df = merged_df.fillna(0)\n",
        "\n",
        "labels = merged_df[TARGET_ANTIBIOTIC].values.astype(np.int32)\n",
        "X = merged_df.drop(columns=[TARGET_ANTIBIOTIC]).values.astype(np.int32)\n",
        "\n",
        "X_train, X_test, y_train, y_test = train_test_split(\n",
        "    X, labels,\n",
        "    test_size=TEST_SPLIT,\n",
        "    random_state=42,\n",
        "    stratify=labels\n",
        ")\n",
        "\n",
        "print(f\"Loaded {len(y_train)} training samples and {len(y_test)} test samples.\")"
      ],
      "metadata": {
        "colab": {
          "base_uri": "https://localhost:8080/"
        },
        "outputId": "22dd6b87-abac-436c-c26f-387a0c2f3828",
        "id": "dkbAPSigGXqe"
      },
      "execution_count": null,
      "outputs": [
        {
          "output_type": "stream",
          "name": "stdout",
          "text": [
            "\n",
            "--- Loading Data and Performing Identical Split ---\n",
            "Loaded 647 training samples and 162 test samples.\n"
          ]
        }
      ]
    },
    {
      "cell_type": "markdown",
      "source": [
        "# **Loading Model & Predictions**"
      ],
      "metadata": {
        "id": "FbfiEYYPGXqe"
      }
    },
    {
      "cell_type": "code",
      "source": [
        "print(\"\\n--- Loading Pre-Trained Models and Generating Predictions ---\")\n",
        "\n",
        "# --- Loading Models ---\n",
        "try:\n",
        "    cnn_model = keras.models.load_model(CNN_MODEL_PATH)\n",
        "    xgb_model = xgb.XGBClassifier()\n",
        "    xgb_model.load_model(XGB_MODEL_PATH)\n",
        "    print(\"Base models loaded successfully.\")\n",
        "except Exception as e:\n",
        "    print(f\"Error loading models: {e}\")\n",
        "    exit()\n",
        "\n",
        "# We need test set predictions for the final evaluation\n",
        "print(\"Generating predictions for the test set (for final evaluation)...\")\n",
        "test_preds_cnn = cnn_model.predict(X_test, verbose=0).ravel()\n",
        "test_preds_xgb = xgb_model.predict_proba(X_test)[:, 1]"
      ],
      "metadata": {
        "colab": {
          "base_uri": "https://localhost:8080/"
        },
        "outputId": "21addefd-ba01-46a2-a84f-abf8fcaed3ef",
        "id": "sxSEpZyYGXqf"
      },
      "execution_count": null,
      "outputs": [
        {
          "output_type": "stream",
          "name": "stdout",
          "text": [
            "\n",
            "--- Loading Pre-Trained Models and Generating Predictions ---\n",
            "Base models loaded successfully.\n",
            "Generating predictions for the test set (for final evaluation)...\n"
          ]
        },
        {
          "output_type": "stream",
          "name": "stderr",
          "text": [
            "WARNING:tensorflow:5 out of the last 13 calls to <function TensorFlowTrainer.make_predict_function.<locals>.one_step_on_data_distributed at 0x7d60816505e0> triggered tf.function retracing. Tracing is expensive and the excessive number of tracings could be due to (1) creating @tf.function repeatedly in a loop, (2) passing tensors with different shapes, (3) passing Python objects instead of tensors. For (1), please define your @tf.function outside of the loop. For (2), @tf.function has reduce_retracing=True option that can avoid unnecessary retracing. For (3), please refer to https://www.tensorflow.org/guide/function#controlling_retracing and https://www.tensorflow.org/api_docs/python/tf/function for  more details.\n"
          ]
        }
      ]
    },
    {
      "cell_type": "markdown",
      "source": [
        "# **Model Evaluation**"
      ],
      "metadata": {
        "id": "OGTDXrpVGXqf"
      }
    },
    {
      "cell_type": "code",
      "source": [
        "print(\"\\n--- Evaluating Simple Ensemble Model on the Test Set ---\")\n",
        "\n",
        "print(\"\\n--- Combining Predictions and Tuning the Threshold ---\")\n",
        "\n",
        "cnn_weight = 0.5\n",
        "xgb_weight = 0.5\n",
        "\n",
        "# Combining predictions for the test set\n",
        "y_pred_probs_ensemble = (cnn_weight * test_preds_cnn) + (xgb_weight * test_preds_xgb)\n",
        "\n",
        "# Applying the OPTIMAL THRESHOLD to the combined test probabilities\n",
        "y_pred_ensemble_tuned = (y_pred_probs_ensemble >= 0.48).astype(int)\n",
        "\n",
        "# --- Calculating and Displaying All Metrics ---\n",
        "accuracy_ensemble = accuracy_score(y_test, y_pred_ensemble_tuned)\n",
        "auc_ensemble = roc_auc_score(y_test, y_pred_probs_ensemble)\n",
        "kappa_ensemble = cohen_kappa_score(y_test, y_pred_ensemble_tuned)\n",
        "mcc_ensemble = matthews_corrcoef(y_test, y_pred_ensemble_tuned)\n",
        "\n",
        "print(f\"\\nOverall Performance Metrics (Test Set with Tuned Threshold):\")\n",
        "print(f\"Accuracy: {accuracy_ensemble:.4f}\")\n",
        "print(f\"AUC Score: {auc_ensemble:.4f}\")\n",
        "print(f\"Cohen's Kappa: {kappa_ensemble:.4f}\")\n",
        "print(f\"Matthews Correlation Coefficient (MCC): {mcc_ensemble:.4f}\")\n",
        "\n",
        "print(\"\\nClassification Report (Tuned Threshold):\")\n",
        "print(classification_report(y_test, y_pred_ensemble_tuned, target_names=[\"Susceptible (0)\", \"Resistant (1)\"], digits=4))\n",
        "\n",
        "print(\"\\nConfusion Matrix (Tuned Threshold):\")\n",
        "cm_ensemble = confusion_matrix(y_test, y_pred_ensemble_tuned)\n",
        "sns.heatmap(cm_ensemble, annot=True, fmt='d', cmap='Blues')\n",
        "#plt.title(f'Confusion Matrix - {TARGET_ANTIBIOTIC} (Simple Ensemble)')\n",
        "plt.ylabel('Actual')\n",
        "plt.xlabel('Predicted')\n",
        "plt.show()\n",
        "\n",
        "# --- ROC Curve ---\n",
        "fpr_ens, tpr_ens, _ = roc_curve(y_test, y_pred_probs_ensemble)\n",
        "plt.figure(figsize=(7, 6))\n",
        "plt.plot(fpr_ens, tpr_ens, color='blue', lw=2, label=f'ROC (AUC = {auc_ensemble:.4f})')\n",
        "plt.plot([0, 1], [0, 1], color='gray', lw=2, linestyle='--')\n",
        "#plt.title(f'ROC Curve - {TARGET_ANTIBIOTIC} (Simple Ensemble)')\n",
        "plt.legend(loc=\"lower right\")\n",
        "plt.grid(alpha=0.3)\n",
        "plt.show()"
      ],
      "metadata": {
        "colab": {
          "base_uri": "https://localhost:8080/",
          "height": 1000
        },
        "outputId": "b903e77c-103a-4e8e-fb64-34670ac5e23f",
        "id": "uWM82l1XGXqf"
      },
      "execution_count": null,
      "outputs": [
        {
          "output_type": "stream",
          "name": "stdout",
          "text": [
            "\n",
            "--- Evaluating Simple Ensemble Model on the Test Set ---\n",
            "\n",
            "--- Combining Predictions and Tuning the Threshold ---\n",
            "\n",
            "Overall Performance Metrics (Test Set with Tuned Threshold):\n",
            "Accuracy: 0.7469\n",
            "AUC Score: 0.7639\n",
            "Cohen's Kappa: 0.3899\n",
            "Matthews Correlation Coefficient (MCC): 0.4030\n",
            "\n",
            "Classification Report (Tuned Threshold):\n",
            "                 precision    recall  f1-score   support\n",
            "\n",
            "Susceptible (0)     0.8879    0.7661    0.8225       124\n",
            "  Resistant (1)     0.4727    0.6842    0.5591        38\n",
            "\n",
            "       accuracy                         0.7469       162\n",
            "      macro avg     0.6803    0.7252    0.6908       162\n",
            "   weighted avg     0.7905    0.7469    0.7607       162\n",
            "\n",
            "\n",
            "Confusion Matrix (Tuned Threshold):\n"
          ]
        },
        {
          "output_type": "display_data",
          "data": {
            "text/plain": [
              "<Figure size 640x480 with 2 Axes>"
            ],
            "image/png": "[encoded data removed]"
          },
          "metadata": {}
        },
        {
          "output_type": "display_data",
          "data": {
            "text/plain": [
              "<Figure size 700x600 with 1 Axes>"
            ],
            "image/png": "[encoded data removed]"
          },
          "metadata": {}
        }
      ]
    }
  ]
}